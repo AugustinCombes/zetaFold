{
 "cells": [
  {
   "cell_type": "code",
   "execution_count": null,
   "metadata": {},
   "outputs": [],
   "source": [
    "sequences = list()\n",
    "with open('data/sequences.txt', 'r') as f:\n",
    "    for line in f:\n",
    "        sequences.append(line[:-1])\n",
    "\n",
    "sequences_train = list()\n",
    "sequences_test = list()\n",
    "proteins_test = list()\n",
    "y_train = list()\n",
    "with open('data/graph_labels.txt', 'r') as f:\n",
    "    for i,line in enumerate(f):\n",
    "        t = line.split(',')\n",
    "        if len(t[1][:-1]) == 0:\n",
    "            sequences_test.append(sequences[i])\n",
    "            proteins_test.append(t[0])\n",
    "        else:\n",
    "            sequences_train.append(sequences[i])\n",
    "            y_train.append(int(t[1][:-1]))\n",
    "\n",
    "len(sequences), len(sequences_train), len(y_train), len(sequences_test), len(proteins_test)"
   ]
  },
  {
   "cell_type": "code",
   "execution_count": null,
   "metadata": {},
   "outputs": [],
   "source": [
    "set_char = list(set([letter for sets in map(set, sequences) for letter in sets]))\n",
    "set_char.sort()\n",
    "tokenizer = {char:idx for idx,char in enumerate(set_char)}\n",
    "tok_seq_train = list(map(lambda l: list(map(lambda x : tokenizer[x], list(l))), sequences_train))\n",
    "\n",
    "import tensorflow as tf\n",
    "import numpy as np\n",
    "\n",
    "tfkl = tf.keras.layers\n",
    "\n",
    "layer = tf.keras.layers.CategoryEncoding(\n",
    "          num_tokens=len(set_char), output_mode=\"count\")\n",
    "          \n",
    "rt = tf.ragged.constant(tok_seq_train)\n",
    "count_encoding = layer(rt).numpy()\n",
    "\n",
    "\n",
    "enclabels = tf.keras.layers.CategoryEncoding(\n",
    "          num_tokens=18, output_mode='one_hot')(tf.expand_dims(y_train, 1)).numpy()"
   ]
  },
  {
   "cell_type": "code",
   "execution_count": null,
   "metadata": {},
   "outputs": [],
   "source": [
    "from sklearn.model_selection import train_test_split\n",
    "\n",
    "#prevents overfitting \n",
    "X_train, X_test, y_train, y_test = train_test_split(count_encoding,\n",
    "                                                    enclabels,\n",
    "                                                    test_size=0.20,\n",
    "                                                    random_state=42)\n",
    "\n",
    "X_tot , y_tot = count_encoding, enclabels"
   ]
  },
  {
   "cell_type": "code",
   "execution_count": null,
   "metadata": {},
   "outputs": [],
   "source": [
    "import torch\n",
    "import torch.nn as nn\n",
    "import torch.optim as optim\n",
    "\n",
    "X_train, X_test, y_train, y_test = (\n",
    "    torch.tensor(X_train, dtype=torch.float32), \n",
    "    torch.tensor(X_test, dtype=torch.float32), \n",
    "    torch.tensor(y_train, dtype=torch.float32), \n",
    "    torch.tensor(y_test, dtype=torch.float32)\n",
    "    )\n",
    "\n",
    "X_tot, y_tot = torch.tensor(X_tot, dtype=torch.float32), torch.tensor(y_tot, dtype=torch.float32)"
   ]
  },
  {
   "cell_type": "code",
   "execution_count": null,
   "metadata": {},
   "outputs": [],
   "source": [
    "from torch.utils.data import DataLoader, Dataset\n",
    "\n",
    "set_char = list(set([letter for sets in map(set, sequences) for letter in sets]))\n",
    "set_char.sort()\n",
    "tokenizer = {char:idx for idx,char in enumerate(set_char)}\n",
    "tok_seq_train = list(map(lambda l: list(map(lambda x : tokenizer[x], list(l))), sequences_train))\n",
    "\n",
    "layer = tf.keras.layers.CategoryEncoding(\n",
    "          num_tokens=len(set_char), output_mode=\"count\")\n",
    "          \n",
    "rt = tf.ragged.constant(tok_seq_train)\n",
    "\n",
    "count_encoding = layer(rt)\n",
    "\n",
    "# y_train = tf.constant(y_train, dtype=tf.float32)\n",
    "\n",
    "class ClassifDataset(Dataset):\n",
    "    def __init__(self, sequences, labels):\n",
    "        self.sequences = sequences\n",
    "        self.labels = labels\n",
    "\n",
    "    def __len__(self):\n",
    "        return len(self.sequences)\n",
    "\n",
    "    def __getitem__(self, index):\n",
    "        sequence = self.sequences[index]\n",
    "        label = self.labels[index]\n",
    "\n",
    "        return sequence, label\n",
    "\n",
    "dataset = ClassifDataset(\n",
    "    torch.tensor(X_train), \n",
    "    labels=torch.tensor(y_train.numpy()))\n",
    "dataloader = DataLoader(dataset, batch_size=32, shuffle=True)"
   ]
  },
  {
   "cell_type": "code",
   "execution_count": null,
   "metadata": {},
   "outputs": [],
   "source": [
    "device = 'cpu'\n",
    "\n",
    "X_train = X_train.to(device)\n",
    "y_train = y_train.to(device)\n",
    "\n",
    "model = nn.Sequential(\n",
    "    nn.Linear(21, 1024),\n",
    "    nn.Dropout(0.3),\n",
    "    nn.ReLU(),\n",
    "    nn.Linear(1024, 128),\n",
    "    nn.Dropout(0.2),\n",
    "    nn.ReLU(),\n",
    "    nn.Linear(128, 128),\n",
    "    nn.Dropout(0.2),\n",
    "    nn.ReLU(),\n",
    "    nn.Linear(128, 18),\n",
    "    nn.LogSoftmax(dim=1)\n",
    "    ).to(device)\n",
    "\n",
    "\n",
    "criterion = nn.CrossEntropyLoss()\n",
    "optimizer = optim.Adam(model.parameters(), \n",
    "    # lr=1e-3, \n",
    "    lr=1,\n",
    "    weight_decay=0.01\n",
    "    )\n",
    "\n",
    "scheduler = torch.optim.lr_scheduler.LambdaLR(optimizer, lr_lambda=lambda epoch: 1e-8 + (1e-4 - 1e-8) * (1 - epoch / 500))\n",
    "\n",
    "for epoch in range(500):\n",
    "    for input, y in dataloader:\n",
    "        optimizer.zero_grad()\n",
    "        input, y = input.to(device), y.to(device)\n",
    "        output = model(input)\n",
    "        loss = criterion(output, y)\n",
    "        loss.backward()\n",
    "        optimizer.step()\n",
    "\n",
    "    scheduler.step()\n",
    "    print(scheduler.get_last_lr()[0])\n",
    "\n",
    "    train_acc = (torch.argmax(model(X_train), dim=1)==torch.argmax(y_train, dim=1)).to('cpu').numpy().mean()\n",
    "    print(f\"Epoch {epoch}, {100*train_acc}%\")"
   ]
  },
  {
   "cell_type": "code",
   "execution_count": null,
   "metadata": {},
   "outputs": [],
   "source": [
    "model.eval()\n",
    "model.training"
   ]
  },
  {
   "cell_type": "code",
   "execution_count": null,
   "metadata": {},
   "outputs": [],
   "source": [
    "train_acc = (torch.argmax(model(X_train), dim=1)==torch.argmax(y_train, dim=1)).numpy().mean()\n",
    "test_acc = (torch.argmax(model(X_test), dim=1)==torch.argmax(y_test, dim=1)).numpy().mean()\n",
    "train_acc, test_acc"
   ]
  },
  {
   "cell_type": "code",
   "execution_count": null,
   "metadata": {},
   "outputs": [],
   "source": [
    "from sklearn.metrics import accuracy_score, log_loss\n",
    "\n",
    "log_loss(y_true = y_test, \n",
    "        y_pred = torch.nn.Softmax(dim=1)(model(X_test)).detach().numpy())"
   ]
  },
  {
   "attachments": {},
   "cell_type": "markdown",
   "metadata": {},
   "source": [
    "1.550464783515805 avec 1024 > 128 > 128 > 18 dropout a 0.3 et 2*0.2"
   ]
  },
  {
   "cell_type": "markdown",
   "metadata": {},
   "source": [
    "1.5220981442226547\n"
   ]
  }
 ],
 "metadata": {
  "kernelspec": {
   "display_name": "altegrad_env",
   "language": "python",
   "name": "python3"
  },
  "language_info": {
   "codemirror_mode": {
    "name": "ipython",
    "version": 3
   },
   "file_extension": ".py",
   "mimetype": "text/x-python",
   "name": "python",
   "nbconvert_exporter": "python",
   "pygments_lexer": "ipython3",
   "version": "3.9.12"
  },
  "orig_nbformat": 4,
  "vscode": {
   "interpreter": {
    "hash": "93201184ae5283544afdd58677953ee734bf67b299385e7b22daff49378f4f38"
   }
  }
 },
 "nbformat": 4,
 "nbformat_minor": 2
}
